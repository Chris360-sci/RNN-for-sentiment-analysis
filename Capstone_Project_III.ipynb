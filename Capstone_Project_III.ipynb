{
  "nbformat": 4,
  "nbformat_minor": 0,
  "metadata": {
    "colab": {
      "name": "Capstone Project III.ipynb",
      "provenance": [],
      "collapsed_sections": []
    },
    "kernelspec": {
      "display_name": "Python 3",
      "language": "python",
      "name": "python3"
    },
    "language_info": {
      "codemirror_mode": {
        "name": "ipython",
        "version": 3
      },
      "file_extension": ".py",
      "mimetype": "text/x-python",
      "name": "python",
      "nbconvert_exporter": "python",
      "pygments_lexer": "ipython3",
      "version": "3.7.6"
    }
  },
  "cells": [
    {
      "cell_type": "markdown",
      "metadata": {
        "id": "o6tmMnBPGHhs",
        "colab_type": "text"
      },
      "source": [
        "CAPSTONE PROJECT III: Recurrent Neural Networks for sentiment analysis"
      ]
    },
    {
      "cell_type": "code",
      "metadata": {
        "colab_type": "code",
        "id": "uvO3l1xvdHUH",
        "colab": {}
      },
      "source": [
        "# Import dependencies\n",
        "import numpy as np\n",
        "import pandas as pd \n",
        "import tensorflow as tf\n",
        "from tensorflow import keras\n",
        "from keras import layers\n",
        "from keras.preprocessing import sequence\n",
        "from keras.models import Sequential\n",
        "from keras.layers import LSTM, Dense, Dropout, Flatten, Embedding"
      ],
      "execution_count": 1,
      "outputs": []
    },
    {
      "cell_type": "markdown",
      "metadata": {
        "id": "3pFh0XdcGHhy",
        "colab_type": "text"
      },
      "source": [
        "This project uses the Large Movie Review Dataset of 50,000 reviews from IMDb. It contains an even number of positive\n",
        "and negative reviews. Keras has this data set built-in, which we import below."
      ]
    },
    {
      "cell_type": "code",
      "metadata": {
        "colab_type": "code",
        "id": "RHFtjB9RdHUM",
        "colab": {}
      },
      "source": [
        "# Get the dataset\n",
        "from keras.datasets import imdb"
      ],
      "execution_count": 2,
      "outputs": []
    },
    {
      "cell_type": "code",
      "metadata": {
        "colab_type": "code",
        "id": "ccjA3uovdHUS",
        "colab": {}
      },
      "source": [
        "# Set the number of words and the maximum length of a review\n",
        "num_words = 5000\n",
        "maxlen = 500"
      ],
      "execution_count": 3,
      "outputs": []
    },
    {
      "cell_type": "code",
      "metadata": {
        "id": "O-yuk98uGHh6",
        "colab_type": "code",
        "colab": {
          "base_uri": "https://localhost:8080/",
          "height": 51
        },
        "outputId": "e5bf4991-b635-47f0-98fc-472a3f5c2738"
      },
      "source": [
        "# Load the data\n",
        "(X_train, y_train), (X_test, y_test) = imdb.load_data(num_words=num_words)"
      ],
      "execution_count": 4,
      "outputs": [
        {
          "output_type": "stream",
          "text": [
            "Downloading data from https://storage.googleapis.com/tensorflow/tf-keras-datasets/imdb.npz\n",
            "17465344/17464789 [==============================] - 0s 0us/step\n"
          ],
          "name": "stdout"
        }
      ]
    },
    {
      "cell_type": "code",
      "metadata": {
        "id": "0glZGG5GGHh9",
        "colab_type": "code",
        "colab": {
          "base_uri": "https://localhost:8080/",
          "height": 105
        },
        "outputId": "c918d20e-0717-4283-9585-f3971f43efb3"
      },
      "source": [
        "# View a review and it's label\n",
        "print('+++++++++Review+++++++++')\n",
        "print(X_train[6])\n",
        "print('+++++++++Labels+++++++++')\n",
        "print(y_train[6])"
      ],
      "execution_count": 5,
      "outputs": [
        {
          "output_type": "stream",
          "text": [
            "+++++++++Review+++++++++\n",
            "[1, 2, 365, 1234, 5, 1156, 354, 11, 14, 2, 2, 7, 1016, 2, 2, 356, 44, 4, 1349, 500, 746, 5, 200, 4, 4132, 11, 2, 2, 1117, 1831, 2, 5, 4831, 26, 6, 2, 4183, 17, 369, 37, 215, 1345, 143, 2, 5, 1838, 8, 1974, 15, 36, 119, 257, 85, 52, 486, 9, 6, 2, 2, 63, 271, 6, 196, 96, 949, 4121, 4, 2, 7, 4, 2212, 2436, 819, 63, 47, 77, 2, 180, 6, 227, 11, 94, 2494, 2, 13, 423, 4, 168, 7, 4, 22, 5, 89, 665, 71, 270, 56, 5, 13, 197, 12, 161, 2, 99, 76, 23, 2, 7, 419, 665, 40, 91, 85, 108, 7, 4, 2084, 5, 4773, 81, 55, 52, 1901]\n",
            "+++++++++Labels+++++++++\n",
            "1\n"
          ],
          "name": "stdout"
        }
      ]
    },
    {
      "cell_type": "markdown",
      "metadata": {
        "id": "sqJqJCd7GHiA",
        "colab_type": "text"
      },
      "source": [
        "The Data is preprocessed - all the words have been mapped to integers according to their frequency. A value of 0 is used for padding. The label is either 0 - negative or 1 - positive."
      ]
    },
    {
      "cell_type": "markdown",
      "metadata": {
        "id": "1wnFZaeOGHiB",
        "colab_type": "text"
      },
      "source": [
        "All reviews need to be the same length, thus reviews shorter than 500 words need to be padded with zeros."
      ]
    },
    {
      "cell_type": "code",
      "metadata": {
        "colab_type": "code",
        "id": "teS_4hyWdHUW",
        "colab": {}
      },
      "source": [
        "# Process the data to ensure all inputs are 500 values using pad_sequences\n",
        "X_train = sequence.pad_sequences(X_train, maxlen=maxlen)\n",
        "X_test = sequence.pad_sequences(X_test, maxlen=maxlen)"
      ],
      "execution_count": 6,
      "outputs": []
    },
    {
      "cell_type": "markdown",
      "metadata": {
        "id": "sa2e-smxGHiG",
        "colab_type": "text"
      },
      "source": [
        "BUILDING THE MODEL: \n",
        "The Embedding layer is the first hidden layer of a network. The first argument is input_dim: This is the size of the vocabulary in the text data. It is thus 5000. The second is output_dim: This defines the size of the output vectors from this layer for each word. We will use 32, as it was found to be the best value for this problem.The last argument is input_length: This is the length of input sequences, which all consist of 500 words."
      ]
    },
    {
      "cell_type": "code",
      "metadata": {
        "colab_type": "code",
        "id": "mBINz9rqdHUa",
        "colab": {
          "base_uri": "https://localhost:8080/",
          "height": 289
        },
        "outputId": "8eda8fac-9e83-4274-f397-d8b712494c2f"
      },
      "source": [
        "# Build the model\n",
        "model = Sequential()\n",
        "\n",
        "# The embedding layer (input dim=5000, output dim=32 and input length=500)\n",
        "model.add(Embedding(input_dim=num_words, output_dim=32, input_length=maxlen))\n",
        "model.add(Dropout(0.4))\n",
        "\n",
        "# The LSTM model\n",
        "model.add(LSTM(64))\n",
        "\n",
        "# The dense layer\n",
        "model.add(Dense(1, activation='sigmoid'))\n",
        "\n",
        "# Compile the model\n",
        "model.compile(loss='binary_crossentropy', optimizer='adam', metrics = ['accuracy'])\n",
        "model.summary()"
      ],
      "execution_count": 7,
      "outputs": [
        {
          "output_type": "stream",
          "text": [
            "Model: \"sequential\"\n",
            "_________________________________________________________________\n",
            "Layer (type)                 Output Shape              Param #   \n",
            "=================================================================\n",
            "embedding (Embedding)        (None, 500, 32)           160000    \n",
            "_________________________________________________________________\n",
            "dropout (Dropout)            (None, 500, 32)           0         \n",
            "_________________________________________________________________\n",
            "lstm (LSTM)                  (None, 64)                24832     \n",
            "_________________________________________________________________\n",
            "dense (Dense)                (None, 1)                 65        \n",
            "=================================================================\n",
            "Total params: 184,897\n",
            "Trainable params: 184,897\n",
            "Non-trainable params: 0\n",
            "_________________________________________________________________\n"
          ],
          "name": "stdout"
        }
      ]
    },
    {
      "cell_type": "code",
      "metadata": {
        "colab_type": "code",
        "id": "-JV3cFkmdh0z",
        "colab": {
          "base_uri": "https://localhost:8080/",
          "height": 170
        },
        "outputId": "3b36d0b5-e215-4f7c-ec1a-4b7c2e35fe2f"
      },
      "source": [
        "# Fit the model using 4 epochs, a batch size of 100 and a verbose value of 2\n",
        "model.fit(X_train, y_train, epochs=4, batch_size=100, verbose=2)"
      ],
      "execution_count": 8,
      "outputs": [
        {
          "output_type": "stream",
          "text": [
            "Epoch 1/4\n",
            "250/250 - 96s - loss: 0.4768 - accuracy: 0.7729\n",
            "Epoch 2/4\n",
            "250/250 - 96s - loss: 0.2826 - accuracy: 0.8891\n",
            "Epoch 3/4\n",
            "250/250 - 95s - loss: 0.2440 - accuracy: 0.9048\n",
            "Epoch 4/4\n",
            "250/250 - 95s - loss: 0.2239 - accuracy: 0.9140\n"
          ],
          "name": "stdout"
        },
        {
          "output_type": "execute_result",
          "data": {
            "text/plain": [
              "<tensorflow.python.keras.callbacks.History at 0x7ff66720da90>"
            ]
          },
          "metadata": {
            "tags": []
          },
          "execution_count": 8
        }
      ]
    },
    {
      "cell_type": "code",
      "metadata": {
        "colab_type": "code",
        "id": "MqPBN3d_lurz",
        "colab": {
          "base_uri": "https://localhost:8080/",
          "height": 51
        },
        "outputId": "93208c8a-b3e0-4013-90f0-5e3a8e6184d5"
      },
      "source": [
        "# Test the model\n",
        "scores = model.evaluate(X_test, y_test, verbose=2)\n",
        "print(\"Accuracy: \", (scores[1]*100),\"%\")"
      ],
      "execution_count": 9,
      "outputs": [
        {
          "output_type": "stream",
          "text": [
            "782/782 - 36s - loss: 0.2929 - accuracy: 0.8774\n",
            "Accuracy:  87.73999810218811 %\n"
          ],
          "name": "stdout"
        }
      ]
    },
    {
      "cell_type": "markdown",
      "metadata": {
        "id": "sE44qE-FGHiR",
        "colab_type": "text"
      },
      "source": [
        "PREDICT SOMETHING: \n",
        "Here we will define a function to take in text, clean it and convert it to integers to be interpreted by the model.\n",
        "We will then use the outcome to say wether or not the review was positive."
      ]
    },
    {
      "cell_type": "code",
      "metadata": {
        "colab_type": "code",
        "id": "Uydc-dW3V__w",
        "colab": {
          "base_uri": "https://localhost:8080/",
          "height": 34
        },
        "outputId": "41726558-c4a0-4281-b8f3-15c89d29b9f5"
      },
      "source": [
        "import re\n",
        "\n",
        "def clean(txt):\n",
        "# Remove punctuation, return a list of the words\n",
        "  list_words = []\n",
        "  txt = txt.split()\n",
        "\n",
        "  for x in txt:\n",
        "    z = re.findall(\"[a-zA-Z]\", x)\n",
        "    list_words.append(''.join(z).lower())\n",
        "\n",
        "  return list_words\n",
        "\n",
        "clean('This is a sentence!')\n"
      ],
      "execution_count": 10,
      "outputs": [
        {
          "output_type": "execute_result",
          "data": {
            "text/plain": [
              "['this', 'is', 'a', 'sentence']"
            ]
          },
          "metadata": {
            "tags": []
          },
          "execution_count": 10
        }
      ]
    },
    {
      "cell_type": "code",
      "metadata": {
        "colab_type": "code",
        "id": "I-ukj6ihmbv7",
        "colab": {}
      },
      "source": [
        "def predict_sentiment(sentence, model):\n",
        "  # Generate a sentiment value for a review  \n",
        "  word_indexes = []\n",
        "  list_words = clean(sentence)\n",
        "  print(list_words)\n",
        "\n",
        "  for word in list_words:\n",
        "    # Convert words to integers\n",
        "    word_indexes.append(imdb.get_word_index()[word])\n",
        "  \n",
        "  # Ensure all inputs are 500 values using pad_sequences\n",
        "  padded_indexes =  sequence.pad_sequences([word_indexes], maxlen=maxlen)\n",
        "\n",
        "  # Output the outcome\n",
        "  outcome = model.predict(padded_indexes)\n",
        "  return outcome"
      ],
      "execution_count": 11,
      "outputs": []
    },
    {
      "cell_type": "code",
      "metadata": {
        "colab_type": "code",
        "id": "nB0NayeHU_6g",
        "colab": {
          "base_uri": "https://localhost:8080/",
          "height": 85
        },
        "outputId": "e0f5b44f-d7ce-4b3d-8cb5-164c72acc4fb"
      },
      "source": [
        "# Hypothetical review and outcome\n",
        "sentiment = predict_sentiment(\"The film was unoriginal and boring. I would rather watch something else.\", model)\n",
        "\n",
        "if sentiment >= 0.5:\n",
        "  print(\"The review was positive\")\n",
        "else:\n",
        "  print(\"The review was negative\")\n"
      ],
      "execution_count": 12,
      "outputs": [
        {
          "output_type": "stream",
          "text": [
            "['the', 'film', 'was', 'unoriginal', 'and', 'boring', 'i', 'would', 'rather', 'watch', 'something', 'else']\n",
            "Downloading data from https://storage.googleapis.com/tensorflow/tf-keras-datasets/imdb_word_index.json\n",
            "1646592/1641221 [==============================] - 0s 0us/step\n",
            "The review was negative\n"
          ],
          "name": "stdout"
        }
      ]
    },
    {
      "cell_type": "code",
      "metadata": {
        "colab_type": "code",
        "id": "y3wjeQf1VBIy",
        "colab": {}
      },
      "source": [
        ""
      ],
      "execution_count": null,
      "outputs": []
    }
  ]
}